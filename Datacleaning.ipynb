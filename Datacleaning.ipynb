{
 "cells": [
  {
   "cell_type": "code",
   "execution_count": 24,
   "id": "18fc52ac-d02c-4197-af51-65a8a4a43b09",
   "metadata": {},
   "outputs": [
    {
     "name": "stdout",
     "output_type": "stream",
     "text": [
      "           Name        Sector  Num of Years  Years of Operation  \\\n",
      "0     99dresses  Retail Trade              3        (2010-2013)   \n",
      "1       Ahalife  Retail Trade              7        (2010-2017)   \n",
      "2    AllRomance  Retail Trade             10        (2006-2016)   \n",
      "3    Auctionata  Retail Trade              6        (2012-2018)   \n",
      "4  Augury Books  Retail Trade              5        (2012-2017)   \n",
      "\n",
      "                             What They Did How Much They Raised  \\\n",
      "0                     Fashion swapping app            $500,000    \n",
      "1         Curated luxury goods marketplace       $20,000,000.00   \n",
      "2       E-book retailer for romance novels        $1,000,000.00   \n",
      "3  Online auction house for art and luxury       $95,000,000.00   \n",
      "4    Indie e-commerce bookstore for poetry            $500,000    \n",
      "\n",
      "  When they closed         Why They Failed                Lost To  \\\n",
      "0    Shut down 2013          low retention   funding fell through   \n",
      "1       Closed 2017   high marketing costs         lost to Amazon   \n",
      "2       Closed 2016       financial losses         lost to Kindle   \n",
      "3    Shut down 2018             high costs           lost to eBay   \n",
      "4       Closed 2017         couldn't scale         lost to Amazon   \n",
      "\n",
      "                     Takeaway  Giants  No Budget  Competition  \\\n",
      "0           Retention is king       0          1            0   \n",
      "1        Niche doesn't defend       1          0            1   \n",
      "2                Adapt or die       1          1            0   \n",
      "3  Trust and economics matter       1          0            1   \n",
      "4         Niche retail bleeds       1          1            0   \n",
      "\n",
      "   Poor Market Fit  Monetization Failure  \n",
      "0                1                     0  \n",
      "1                0                     1  \n",
      "2                0                     1  \n",
      "3                0                     0  \n",
      "4                0                     0  \n"
     ]
    }
   ],
   "source": [
    "import pandas as pd\n",
    "FILE_PATH = '/Users/courtneypigford/capstone data.csv'\n",
    "data = pd.read_csv(FILE_PATH)\n",
    "print(data.head())"
   ]
  },
  {
   "cell_type": "code",
   "execution_count": 25,
   "id": "e8955b21",
   "metadata": {},
   "outputs": [
    {
     "name": "stdout",
     "output_type": "stream",
     "text": [
      "remaining columns: ['Name', 'Num of Years ', 'Years of Operation', 'When they closed ', 'Why They Failed', 'Lost To', 'Poor Market Fit', 'Monetization Failure']\n",
      "           Name  Num of Years  Years of Operation When they closed   \\\n",
      "0     99dresses              3        (2010-2013)    Shut down 2013   \n",
      "1       Ahalife              7        (2010-2017)       Closed 2017   \n",
      "2    AllRomance             10        (2006-2016)       Closed 2016   \n",
      "3    Auctionata              6        (2012-2018)    Shut down 2018   \n",
      "4  Augury Books              5        (2012-2017)       Closed 2017   \n",
      "\n",
      "         Why They Failed                Lost To  Poor Market Fit  \\\n",
      "0          low retention   funding fell through                1   \n",
      "1   high marketing costs         lost to Amazon                0   \n",
      "2       financial losses         lost to Kindle                0   \n",
      "3             high costs           lost to eBay                0   \n",
      "4         couldn't scale         lost to Amazon                0   \n",
      "\n",
      "   Monetization Failure  \n",
      "0                     0  \n",
      "1                     1  \n",
      "2                     1  \n",
      "3                     0  \n",
      "4                     0  \n"
     ]
    }
   ],
   "source": [
    "\n",
    "columns_to_remove = ['Sector', 'What They Did', 'How Much They Raised', 'Takeaway', 'Giants', 'No Budget', 'Competition']\n",
    "columns_to_remove = [col for col in columns_to_remove if col in data.columns]\n",
    "\n",
    "data = data.drop(columns=columns_to_remove)\n",
    "print('remaining columns:', data.columns.tolist())\n",
    "print(data.head())"
   ]
  },
  {
   "cell_type": "code",
   "execution_count": 26,
   "id": "2cfd8c17",
   "metadata": {},
   "outputs": [
    {
     "name": "stdout",
     "output_type": "stream",
     "text": [
      "Total number of lines in the dataset: 90\n"
     ]
    }
   ],
   "source": [
    "total_lines = len(data)\n",
    "print(f\"Total number of lines in the dataset: {total_lines}\")"
   ]
  },
  {
   "cell_type": "code",
   "execution_count": null,
   "id": "68f2653b",
   "metadata": {},
   "outputs": [
    {
     "name": "stdout",
     "output_type": "stream",
     "text": [
      "Average of 'Num of Years': 7.011111111111111\n"
     ]
    }
   ],
   "source": [
    "if 'Num of Years ' in data.columns:\n",
    "    average_years = data['Num of Years '].mean()\n",
    "    print(f\"Average of 'Num of Years': {average_years}\")\n",
    "else:\n",
    "    print(\"The 'Num of Years' column is not present in the dataset.\")"
   ]
  },
  {
   "cell_type": "code",
   "execution_count": null,
   "id": "67b9958f",
   "metadata": {},
   "outputs": [
    {
     "name": "stdout",
     "output_type": "stream",
     "text": [
      "Average of 'Monetization Failure': 0.18888888888888888\n"
     ]
    }
   ],
   "source": [
    "if 'Monetization Failure' in data.columns:\n",
    "    average_failure = data['Monetization Failure'].mean()\n",
    "    print(f\"Average of 'Monetization Failure': {average_failure}\")\n",
    "else:\n",
    "    print(\"The 'Monetization Failure' column is not present in the dataset.\")"
   ]
  },
  {
   "cell_type": "code",
   "execution_count": 33,
   "id": "0b21155c",
   "metadata": {},
   "outputs": [
    {
     "name": "stdout",
     "output_type": "stream",
     "text": [
      "Average of 'Poor Market Fit': 0.2222222222222222\n"
     ]
    }
   ],
   "source": [
    "if 'Poor Market Fit' in data.columns:\n",
    "    average_market_fit = data['Poor Market Fit'].mean()\n",
    "    print(f\"Average of 'Poor Market Fit': {average_market_fit}\")\n",
    "else:\n",
    "    print(\"The 'Poor Market Fit' column is not present in the dataset.\")"
   ]
  }
 ],
 "metadata": {
  "kernelspec": {
   "display_name": "base",
   "language": "python",
   "name": "python3"
  },
  "language_info": {
   "codemirror_mode": {
    "name": "ipython",
    "version": 3
   },
   "file_extension": ".py",
   "mimetype": "text/x-python",
   "name": "python",
   "nbconvert_exporter": "python",
   "pygments_lexer": "ipython3",
   "version": "3.10.11"
  }
 },
 "nbformat": 4,
 "nbformat_minor": 5
}
